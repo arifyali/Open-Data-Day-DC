{
 "cells": [
  {
   "cell_type": "code",
   "execution_count": 40,
   "metadata": {
    "collapsed": true
   },
   "outputs": [],
   "source": [
    "ConDeaths = read.csv(\"Accidental_Drug_Related_Deaths_January-June_2015.csv\")"
   ]
  },
  {
   "cell_type": "code",
   "execution_count": 41,
   "metadata": {
    "collapsed": false
   },
   "outputs": [],
   "source": [
    "ConDeaths$Cocaine = as.character(ConDeaths$Cocaine)\n",
    "ConDeaths$Any.Opioid = as.character(ConDeaths$Any.Opioid)"
   ]
  },
  {
   "cell_type": "code",
   "execution_count": 42,
   "metadata": {
    "collapsed": false
   },
   "outputs": [
    {
     "data": {
      "text/plain": [
       "    CaseNumber           Date          Sex                    Race     \n",
       " 12-10000:   1   09/21/2013:   8         :   1   White          :1544  \n",
       " 12-10041:   1   07/05/2015:   7   Female: 534   Hispanic, White: 200  \n",
       " 12-10101:   1   01/31/2014:   6   Male  :1377   Black          : 140  \n",
       " 12-10148:   1   03/02/2013:   6                 Unknown        :   8  \n",
       " 12-10309:   1   04/04/2015:   6                 Asian, Other   :   7  \n",
       " 12-1035 :   1   05/26/2014:   6                                :   4  \n",
       " (Other) :1906   (Other)   :1873                 (Other)        :   9  \n",
       "      Age            Residence.City Residence.State   Residence.County\n",
       " Min.   :14.00   Waterbury  : 111          :1420              :636    \n",
       " 1st Qu.:31.00   Hartford   :  96   CT     : 481    NEW HAVEN :353    \n",
       " Median :42.00   New Haven  :  93   MA     :   3    HARTFORD  :319    \n",
       " Mean   :41.53   Bridgeport :  75   FL     :   2    FAIRFIELD :193    \n",
       " 3rd Qu.:51.00   New Britain:  68   NJ     :   2    NEW LONDON:140    \n",
       " Max.   :87.00              :  54   NY     :   2    LITCHFIELD: 89    \n",
       " NA's   :1       (Other)    :1415   (Other):   2    (Other)   :182    \n",
       "       Death.City   Death.State     Death.County              Location  \n",
       " Hartford   : 185     :1404     NEW HAVEN :502                    : 13  \n",
       " New Haven  : 146   CT: 508     HARTFORD  :491   Convalescent Home:  1  \n",
       " Waterbury  : 144               FAIRFIELD :270   Hospital         :649  \n",
       " Bridgeport : 109               NEW LONDON:188   Other            :265  \n",
       " New Britain:  71                         :160   Residence        :984  \n",
       " New London :  65               LITCHFIELD:107                          \n",
       " (Other)    :1192               (Other)   :194                          \n",
       "         InjuryPlace                    ImmediateCauseA Heroin   \n",
       " Residence     :1349   Multiple Drug Toxicity   : 131     : 803  \n",
       " Other         : 196   Heroin Intoxication      : 129     :  63  \n",
       " Hotel or Motel:  65   Heroin Toxicity          :  88    Y:   1  \n",
       " Hospital      :  63   Acute Heroin Toxicity    :  73   Y :1045  \n",
       "               :  50   Acute Heroin Intoxication:  43            \n",
       " Unknown       :  40   Cocaine Intoxication     :  42            \n",
       " (Other)       : 149   (Other)                  :1406            \n",
       "   Cocaine              Fentanyl    Oxycodone Oxymorphone EtOH     Hydrocodone\n",
       " Length:1912                :1670    :1587     :1835       :1516    :1850     \n",
       " Class :character           :   6    :   4    Y:  77       :   3   Y:  62     \n",
       " Mode  :character   Y       : 234   Y: 321                Y: 393              \n",
       "                    Y (PTCH):   1                                             \n",
       "                    Y POPS  :   1                                             \n",
       "                                                                              \n",
       "                                                                              \n",
       " Benzodiazepine Methadone Amphet   Tramad   Morphine..not.heroin.\n",
       "   :1468         :1722     :1873    :1871    :1901               \n",
       "   :   2         :   1     :   1   Y:  41    :   1               \n",
       " Y : 441        Y: 189    Y:  38            Y:  10               \n",
       " Y :   1                                                         \n",
       "                                                                 \n",
       "                                                                 \n",
       "                                                                 \n",
       "        Other       Any.Opioid         MannerofDeath  AmendedMannerofDeath\n",
       "           :1689   Length:1912                :   6   Mode:logical        \n",
       " MORPHINE  :  36   Class :character   accident:   3   NA's:1912           \n",
       "           :  19   Mode  :character   Accident:1891                       \n",
       " PCP       :  19                      Natural :   1                       \n",
       " HYDROMORPH:  15                      Pending :  11                       \n",
       " OPIATE    :  15                                                          \n",
       " (Other)   : 119                                                          \n",
       " DeathLoc..address.                         DeathLoc       DeathLoc..city.\n",
       " Mode:logical       POINT (-72.673356 41.765775): 185   Hartford   : 185  \n",
       " NA's:1912          POINT (-72.924161 41.308252): 147   New Haven  : 146  \n",
       "                    POINT (-73.043069 41.554261): 144   Waterbury  : 144  \n",
       "                    POINT (-73.189476 41.179195): 109   Bridgeport : 109  \n",
       "                    POINT (-72.783437 41.667528):  71   New Britain:  71  \n",
       "                    POINT (-72.099561 41.355167):  65   New London :  65  \n",
       "                    (Other)                     :1191   (Other)    :1192  \n",
       " DeathLoc..zip. DeathLoc..state.\n",
       " Mode:logical     :1404         \n",
       " NA's:1912      CT: 508         \n",
       "                                \n",
       "                                \n",
       "                                \n",
       "                                \n",
       "                                "
      ]
     },
     "execution_count": 42,
     "metadata": {},
     "output_type": "execute_result"
    }
   ],
   "source": [
    "summary(ConDeaths)"
   ]
  },
  {
   "cell_type": "code",
   "execution_count": 43,
   "metadata": {
    "collapsed": false
   },
   "outputs": [
    {
     "data": {
      "text/html": [
       "<ol class=list-inline>\n",
       "\t<li>'1'</li>\n",
       "\t<li>'0'</li>\n",
       "\t<li>''</li>\n",
       "</ol>\n"
      ],
      "text/latex": [
       "\\begin{enumerate*}\n",
       "\\item '1'\n",
       "\\item '0'\n",
       "\\item ''\n",
       "\\end{enumerate*}\n"
      ],
      "text/markdown": [
       "1. '1'\n",
       "2. '0'\n",
       "3. ''\n",
       "\n",
       "\n"
      ],
      "text/plain": [
       "[1] \"1\" \"0\" \"\" "
      ]
     },
     "execution_count": 43,
     "metadata": {},
     "output_type": "execute_result"
    }
   ],
   "source": [
    "ConDeaths$Sex = as.character(ConDeaths$Sex)\n",
    "ConDeaths$Sex[ConDeaths$Sex == \"Male\"] = 1\n",
    "ConDeaths$Sex[ConDeaths$Sex == \"Female\"] = 0\n",
    "ConDeaths$Sex = as.numeric(ConDeaths$Sex)\n",
    "unique(ConDeaths$Sex)"
   ]
  },
  {
   "cell_type": "code",
   "execution_count": 11,
   "metadata": {
    "collapsed": false
   },
   "outputs": [],
   "source": [
    "library(\"gdata\")\n",
    "CTcrime = read.xls(\"table_8_offenses_known_to_law_enforcement_by_connecticut_by_city_2012.xls\",sheet = 1)\n",
    "for(i in names(CTcrime[,-1])){\n",
    "    CTcrime[, i] = as.numeric(CTcrime[,i])\n",
    "    }"
   ]
  },
  {
   "cell_type": "code",
   "execution_count": 14,
   "metadata": {
    "collapsed": false
   },
   "outputs": [],
   "source": []
  },
  {
   "cell_type": "code",
   "execution_count": null,
   "metadata": {
    "collapsed": false
   },
   "outputs": [],
   "source": []
  },
  {
   "cell_type": "code",
   "execution_count": 25,
   "metadata": {
    "collapsed": true
   },
   "outputs": [],
   "source": []
  },
  {
   "cell_type": "code",
   "execution_count": null,
   "metadata": {
    "collapsed": false
   },
   "outputs": [],
   "source": []
  },
  {
   "cell_type": "code",
   "execution_count": null,
   "metadata": {
    "collapsed": true
   },
   "outputs": [],
   "source": [
    "#table(ConDeaths$Death.City)\n",
    "#ConDeaths$Cocaine[ConDeaths$Cocaine == \"Y\"] = 1\n",
    "#ConDeaths$Cocaine[ConDeaths$Cocaine != \"Y\"] = 0\n",
    "#ConDeaths$Any.Opioid[ConDeaths$Any.Opioid == \"Y\"] = 1\n",
    "#ConDeaths$Any.Opioid[ConDeaths$Any.Opioid != \"Y\"] = 0\n",
    "#cor(as.numeric(ConDeaths$Cocaine), as.numeric(ConDeaths$Any.Opioid))"
   ]
  }
 ],
 "metadata": {
  "kernelspec": {
   "display_name": "R",
   "language": "R",
   "name": "ir"
  },
  "language_info": {
   "codemirror_mode": "r",
   "file_extension": ".r",
   "mimetype": "text/x-r-source",
   "name": "R",
   "pygments_lexer": "r",
   "version": "3.2.2"
  }
 },
 "nbformat": 4,
 "nbformat_minor": 0
}
